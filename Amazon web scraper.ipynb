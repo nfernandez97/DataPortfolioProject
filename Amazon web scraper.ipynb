{
 "cells": [
  {
   "cell_type": "code",
   "execution_count": 36,
   "id": "c1015bc8-5ec7-4746-8b9f-ffa8923028c4",
   "metadata": {},
   "outputs": [],
   "source": [
    "# Import libraries\n",
    "\n",
    "from bs4 import BeautifulSoup\n",
    "import requests\n",
    "import smtplib\n",
    "import time\n",
    "import datetime"
   ]
  },
  {
   "cell_type": "code",
   "execution_count": 37,
   "id": "a41a7e6c-4711-4942-8eae-7d1704b6f4fe",
   "metadata": {},
   "outputs": [],
   "source": [
    "# Connect to a website\n",
    "\n",
    "URL = 'https://www.amazon.com/KingHe-Outdoor-Waterproof-Powered-KH-XBW4-1/dp/B0BLVQTP52/?_encoding=UTF8&pd_rd_w=SGnW6&content-id=amzn1.sym.423b81fe-9592-49b8-ab12-8755b77c3384%3Aamzn1.symc.a68f4ca3-28dc-4388-a2cf-24672c480d8f&pf_rd_p=423b81fe-9592-49b8-ab12-8755b77c3384&pf_rd_r=X8QVRMYA3142HCFAR6K2&pd_rd_wg=RBBdX&pd_rd_r=f9b26d3a-73ea-497a-95be-2648dd167da2&ref_=pd_hp_d_atf_ci_mcx_mr_ca_hp_atf_d'\n",
    "\n",
    "headers = {\"User-Agent\": \"Mozilla/5.0 (Windows NT 10.0; Win64; x64) AppleWebKit/537.36 (KHTML, like Gecko) Chrome/124.0.0.0 Safari/537.36\",\"Accept-Encoding\": \"gzip, deflate, br, zstd\",\"Accept\": \"text/html,application/xhtml+xml,application/xml;q=0.9,image/avif,image/webp,image/apng,*/*;q=0.8,application/signed-exchange;v=b3;q=0.7\",\"Dnt\": \"1\",\"Upgrade-Insecure-Requests\": \"1\"}\n",
    "\n",
    "page = requests.get(URL, headers=headers)\n",
    "\n",
    "soup1 = BeautifulSoup(page.content, \"html.parser\")\n",
    "soup2 = BeautifulSoup(soup1.prettify(), \"html.parser\")\n",
    "\n",
    "product = soup2.find(id=\"productTitle\").get_text()\n",
    "price = (soup2.select_one(\"span.a-price\").select_one(\"span.a-offscreen\")).text\n",
    "\n",
    "price = price.strip()[1:]\n",
    "product = product.strip()\n"
   ]
  },
  {
   "cell_type": "code",
   "execution_count": 38,
   "id": "702ab40a-71ea-4616-ad8d-6f74ffc0fcb2",
   "metadata": {},
   "outputs": [
    {
     "name": "stdout",
     "output_type": "stream",
     "text": [
      "Solar Street Lights Outdoor Waterproof - 400W Dusk to Dawn Solar Parking Lot Lights,Security Flood Lights with Motion Sensor Control for Yard, Path, Garage,Home, Commercial Grade\n",
      "44.99\n"
     ]
    }
   ],
   "source": [
    "\n",
    "print(product)\n",
    "print(price)"
   ]
  },
  {
   "cell_type": "code",
   "execution_count": 39,
   "id": "0698a048-d3f4-4514-91ab-462519f918a7",
   "metadata": {},
   "outputs": [
    {
     "name": "stdout",
     "output_type": "stream",
     "text": [
      "2024-05-17\n"
     ]
    }
   ],
   "source": [
    "import datetime\n",
    "\n",
    "date = datetime.date.today()\n",
    "\n",
    "print(date)"
   ]
  },
  {
   "cell_type": "code",
   "execution_count": 40,
   "id": "f22e81e2-49d4-4509-ace7-e189794e6b0c",
   "metadata": {},
   "outputs": [],
   "source": [
    "import csv\n",
    "\n",
    "header = ['Product', 'Price', 'Date']\n",
    "data = [product,price,date]\n",
    "\n",
    "with open('AmazonScrapper.csv', 'w', newline='', encoding='UTF8') as f: \n",
    "    writer = csv.writer(f)\n",
    "    writer.writerow(header)\n",
    "    writer.writerow(data)"
   ]
  },
  {
   "cell_type": "code",
   "execution_count": 41,
   "id": "64bb1cd5-ee61-4487-a538-ad48c99210c0",
   "metadata": {},
   "outputs": [
    {
     "name": "stdout",
     "output_type": "stream",
     "text": [
      "                                             Product  Price        Date\n",
      "0  Solar Street Lights Outdoor Waterproof - 400W ...  44.99  2024-05-17\n"
     ]
    }
   ],
   "source": [
    "import pandas as pd\n",
    "\n",
    "df = pd.read_csv(r'C:\\Users\\nicof\\AmazonScrapper.csv')\n",
    "\n",
    "print(df)"
   ]
  },
  {
   "cell_type": "code",
   "execution_count": null,
   "id": "45f9919b-14a6-49b0-8e44-2b0a1e07fa33",
   "metadata": {},
   "outputs": [],
   "source": [
    "#Append data to the csv\n",
    "\n",
    "with open('AmazonScrapper.csv', 'a+', newline='', encoding='UTF8') as f: \n",
    "    writer = csv.writer(f)\n",
    "    writer.writerow(data)"
   ]
  },
  {
   "cell_type": "code",
   "execution_count": 43,
   "id": "21a9130d-a85c-4d7b-b59c-519977346d29",
   "metadata": {},
   "outputs": [],
   "source": [
    "def check_price():\n",
    "    import datetime\n",
    "    import csv\n",
    "    \n",
    "    URL = 'https://www.amazon.com/KingHe-Outdoor-Waterproof-Powered-KH-XBW4-1/dp/B0BLVQTP52/?_encoding=UTF8&pd_rd_w=SGnW6&content-id=amzn1.sym.423b81fe-9592-49b8-ab12-8755b77c3384%3Aamzn1.symc.a68f4ca3-28dc-4388-a2cf-24672c480d8f&pf_rd_p=423b81fe-9592-49b8-ab12-8755b77c3384&pf_rd_r=X8QVRMYA3142HCFAR6K2&pd_rd_wg=RBBdX&pd_rd_r=f9b26d3a-73ea-497a-95be-2648dd167da2&ref_=pd_hp_d_atf_ci_mcx_mr_ca_hp_atf_d'\n",
    "\n",
    "    headers = {\"User-Agent\": \"Mozilla/5.0 (Windows NT 10.0; Win64; x64) AppleWebKit/537.36 (KHTML, like Gecko) Chrome/124.0.0.0 Safari/537.36\",\"Accept-Encoding\": \"gzip, deflate, br, zstd\",\"Accept\": \"text/html,application/xhtml+xml,application/xml;q=0.9,image/avif,image/webp,image/apng,*/*;q=0.8,application/signed-exchange;v=b3;q=0.7\",\"Dnt\": \"1\",\"Upgrade-Insecure-Requests\": \"1\"}\n",
    "\n",
    "    page = requests.get(URL, headers=headers)\n",
    "\n",
    "    soup1 = BeautifulSoup(page.content, \"html.parser\")\n",
    "    soup2 = BeautifulSoup(soup1.prettify(), \"html.parser\")\n",
    "\n",
    "    product = soup2.find(id=\"productTitle\").get_text()\n",
    "    price = (soup2.select_one(\"span.a-price\").select_one(\"span.a-offscreen\")).text\n",
    "\n",
    "    price = price.strip()[1:]\n",
    "    product = product.strip()\n",
    "\n",
    "\n",
    "    date = datetime.date.today()\n",
    "\n",
    "    header = ['Product', 'Price', 'Date']\n",
    "    data = [product,price,date]\n",
    "\n",
    "    with open('AmazonScrapper.csv', 'a+', newline='', encoding='UTF8') as f: \n",
    "        writer = csv.writer(f)\n",
    "        writer.writerow(data)"
   ]
  },
  {
   "cell_type": "code",
   "execution_count": null,
   "id": "d17eb72e-3dbf-4f93-bbf8-e87d300bbaf7",
   "metadata": {},
   "outputs": [],
   "source": [
    "while(True):\n",
    "    check_price()\n",
    "    time.sleep(86400)"
   ]
  },
  {
   "cell_type": "code",
   "execution_count": 49,
   "id": "70ba1f52-93e0-4416-915a-ad678d7b31bd",
   "metadata": {},
   "outputs": [
    {
     "data": {
      "text/html": [
       "<div>\n",
       "<style scoped>\n",
       "    .dataframe tbody tr th:only-of-type {\n",
       "        vertical-align: middle;\n",
       "    }\n",
       "\n",
       "    .dataframe tbody tr th {\n",
       "        vertical-align: top;\n",
       "    }\n",
       "\n",
       "    .dataframe thead th {\n",
       "        text-align: right;\n",
       "    }\n",
       "</style>\n",
       "<table border=\"1\" class=\"dataframe\">\n",
       "  <thead>\n",
       "    <tr style=\"text-align: right;\">\n",
       "      <th></th>\n",
       "      <th>Product</th>\n",
       "      <th>Price</th>\n",
       "      <th>Date</th>\n",
       "    </tr>\n",
       "  </thead>\n",
       "  <tbody>\n",
       "    <tr>\n",
       "      <th>0</th>\n",
       "      <td>Solar Street Lights Outdoor Waterproof - 400W ...</td>\n",
       "      <td>44.99</td>\n",
       "      <td>2024-05-17</td>\n",
       "    </tr>\n",
       "    <tr>\n",
       "      <th>1</th>\n",
       "      <td>Solar Street Lights Outdoor Waterproof - 400W ...</td>\n",
       "      <td>44.99</td>\n",
       "      <td>2024-05-17</td>\n",
       "    </tr>\n",
       "    <tr>\n",
       "      <th>2</th>\n",
       "      <td>Solar Street Lights Outdoor Waterproof - 400W ...</td>\n",
       "      <td>44.99</td>\n",
       "      <td>2024-05-17</td>\n",
       "    </tr>\n",
       "    <tr>\n",
       "      <th>3</th>\n",
       "      <td>Solar Street Lights Outdoor Waterproof - 400W ...</td>\n",
       "      <td>44.99</td>\n",
       "      <td>2024-05-17</td>\n",
       "    </tr>\n",
       "  </tbody>\n",
       "</table>\n",
       "</div>"
      ],
      "text/plain": [
       "                                             Product  Price        Date\n",
       "0  Solar Street Lights Outdoor Waterproof - 400W ...  44.99  2024-05-17\n",
       "1  Solar Street Lights Outdoor Waterproof - 400W ...  44.99  2024-05-17\n",
       "2  Solar Street Lights Outdoor Waterproof - 400W ...  44.99  2024-05-17\n",
       "3  Solar Street Lights Outdoor Waterproof - 400W ...  44.99  2024-05-17"
      ]
     },
     "execution_count": 49,
     "metadata": {},
     "output_type": "execute_result"
    }
   ],
   "source": [
    "df"
   ]
  }
 ],
 "metadata": {
  "kernelspec": {
   "display_name": "Python 3 (ipykernel)",
   "language": "python",
   "name": "python3"
  },
  "language_info": {
   "codemirror_mode": {
    "name": "ipython",
    "version": 3
   },
   "file_extension": ".py",
   "mimetype": "text/x-python",
   "name": "python",
   "nbconvert_exporter": "python",
   "pygments_lexer": "ipython3",
   "version": "3.11.7"
  }
 },
 "nbformat": 4,
 "nbformat_minor": 5
}
